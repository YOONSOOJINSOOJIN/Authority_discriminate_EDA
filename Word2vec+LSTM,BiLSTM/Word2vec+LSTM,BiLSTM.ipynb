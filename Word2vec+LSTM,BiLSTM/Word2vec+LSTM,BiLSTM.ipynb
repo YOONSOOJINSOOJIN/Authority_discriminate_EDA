{
  "nbformat": 4,
  "nbformat_minor": 0,
  "metadata": {
    "colab": {
      "name": "웟핫잇코딩 LSTM (멋사)의 사본",
      "provenance": [],
      "collapsed_sections": []
    },
    "kernelspec": {
      "name": "python3",
      "display_name": "Python 3"
    },
    "language_info": {
      "name": "python"
    }
  },
  "cells": [
    {
      "cell_type": "code",
      "metadata": {
        "id": "e_SLF0gUDvaV"
      },
      "source": [
        "from google.colab import drive\n",
        "drive.mount('/content/drive')"
      ],
      "execution_count": null,
      "outputs": []
    },
    {
      "cell_type": "code",
      "metadata": {
        "id": "Fay1Xw_dC6xn"
      },
      "source": [
        "\n",
        "import pandas as pd\n",
        "import numpy as np\n",
        "import re\n",
        "\n",
        "import seaborn as sns\n",
        "import matplotlib.pyplot as plt\n",
        "\n",
        "from sklearn.metrics import accuracy_score, log_loss\n",
        "from sklearn.model_selection import StratifiedKFold\n",
        "\n",
        "import tensorflow as tf\n",
        "from tensorflow.keras import Sequential\n",
        "from tensorflow.keras.layers import Dense, Embedding, LSTM, Dropout, Bidirectional\n",
        "from tensorflow.keras.preprocessing.sequence import pad_sequences\n",
        "from tensorflow.keras.preprocessing.text import Tokenizer\n",
        "from tensorflow.keras.callbacks import EarlyStopping, ReduceLROnPlateau\n",
        "from tensorflow.keras.utils import plot_model, to_categorical\n",
        "from tensorflow.keras.optimizers import Adam\n",
        "\n",
        "from keras.utils import np_utils\n",
        "\n",
        "import warnings \n",
        "warnings.filterwarnings(action='ignore')\n",
        "train = pd.read_csv(\"/content/drive/MyDrive/data/novel/train.csv\")\n",
        "test = pd.read_csv(\"/content/drive/MyDrive/data/novel/test_x.csv\")"
      ],
      "execution_count": null,
      "outputs": []
    },
    {
      "cell_type": "code",
      "metadata": {
        "colab": {
          "base_uri": "https://localhost:8080/",
          "height": 417
        },
        "id": "zsuo9d82C8LE",
        "outputId": "10042c80-6799-4516-dcc1-34e6576c7778"
      },
      "source": [
        "sample_submission = pd.read_csv(\"/content/drive/MyDrive/data/novel/sample_submission.csv\")\n",
        "sample_submission"
      ],
      "execution_count": null,
      "outputs": [
        {
          "output_type": "execute_result",
          "data": {
            "text/html": [
              "<div>\n",
              "<style scoped>\n",
              "    .dataframe tbody tr th:only-of-type {\n",
              "        vertical-align: middle;\n",
              "    }\n",
              "\n",
              "    .dataframe tbody tr th {\n",
              "        vertical-align: top;\n",
              "    }\n",
              "\n",
              "    .dataframe thead th {\n",
              "        text-align: right;\n",
              "    }\n",
              "</style>\n",
              "<table border=\"1\" class=\"dataframe\">\n",
              "  <thead>\n",
              "    <tr style=\"text-align: right;\">\n",
              "      <th></th>\n",
              "      <th>index</th>\n",
              "      <th>0</th>\n",
              "      <th>1</th>\n",
              "      <th>2</th>\n",
              "      <th>3</th>\n",
              "      <th>4</th>\n",
              "    </tr>\n",
              "  </thead>\n",
              "  <tbody>\n",
              "    <tr>\n",
              "      <th>0</th>\n",
              "      <td>0</td>\n",
              "      <td>0</td>\n",
              "      <td>0</td>\n",
              "      <td>0</td>\n",
              "      <td>0</td>\n",
              "      <td>0</td>\n",
              "    </tr>\n",
              "    <tr>\n",
              "      <th>1</th>\n",
              "      <td>1</td>\n",
              "      <td>0</td>\n",
              "      <td>0</td>\n",
              "      <td>0</td>\n",
              "      <td>0</td>\n",
              "      <td>0</td>\n",
              "    </tr>\n",
              "    <tr>\n",
              "      <th>2</th>\n",
              "      <td>2</td>\n",
              "      <td>0</td>\n",
              "      <td>0</td>\n",
              "      <td>0</td>\n",
              "      <td>0</td>\n",
              "      <td>0</td>\n",
              "    </tr>\n",
              "    <tr>\n",
              "      <th>3</th>\n",
              "      <td>3</td>\n",
              "      <td>0</td>\n",
              "      <td>0</td>\n",
              "      <td>0</td>\n",
              "      <td>0</td>\n",
              "      <td>0</td>\n",
              "    </tr>\n",
              "    <tr>\n",
              "      <th>4</th>\n",
              "      <td>4</td>\n",
              "      <td>0</td>\n",
              "      <td>0</td>\n",
              "      <td>0</td>\n",
              "      <td>0</td>\n",
              "      <td>0</td>\n",
              "    </tr>\n",
              "    <tr>\n",
              "      <th>...</th>\n",
              "      <td>...</td>\n",
              "      <td>...</td>\n",
              "      <td>...</td>\n",
              "      <td>...</td>\n",
              "      <td>...</td>\n",
              "      <td>...</td>\n",
              "    </tr>\n",
              "    <tr>\n",
              "      <th>19612</th>\n",
              "      <td>19612</td>\n",
              "      <td>0</td>\n",
              "      <td>0</td>\n",
              "      <td>0</td>\n",
              "      <td>0</td>\n",
              "      <td>0</td>\n",
              "    </tr>\n",
              "    <tr>\n",
              "      <th>19613</th>\n",
              "      <td>19613</td>\n",
              "      <td>0</td>\n",
              "      <td>0</td>\n",
              "      <td>0</td>\n",
              "      <td>0</td>\n",
              "      <td>0</td>\n",
              "    </tr>\n",
              "    <tr>\n",
              "      <th>19614</th>\n",
              "      <td>19614</td>\n",
              "      <td>0</td>\n",
              "      <td>0</td>\n",
              "      <td>0</td>\n",
              "      <td>0</td>\n",
              "      <td>0</td>\n",
              "    </tr>\n",
              "    <tr>\n",
              "      <th>19615</th>\n",
              "      <td>19615</td>\n",
              "      <td>0</td>\n",
              "      <td>0</td>\n",
              "      <td>0</td>\n",
              "      <td>0</td>\n",
              "      <td>0</td>\n",
              "    </tr>\n",
              "    <tr>\n",
              "      <th>19616</th>\n",
              "      <td>19616</td>\n",
              "      <td>0</td>\n",
              "      <td>0</td>\n",
              "      <td>0</td>\n",
              "      <td>0</td>\n",
              "      <td>0</td>\n",
              "    </tr>\n",
              "  </tbody>\n",
              "</table>\n",
              "<p>19617 rows × 6 columns</p>\n",
              "</div>"
            ],
            "text/plain": [
              "       index  0  1  2  3  4\n",
              "0          0  0  0  0  0  0\n",
              "1          1  0  0  0  0  0\n",
              "2          2  0  0  0  0  0\n",
              "3          3  0  0  0  0  0\n",
              "4          4  0  0  0  0  0\n",
              "...      ... .. .. .. .. ..\n",
              "19612  19612  0  0  0  0  0\n",
              "19613  19613  0  0  0  0  0\n",
              "19614  19614  0  0  0  0  0\n",
              "19615  19615  0  0  0  0  0\n",
              "19616  19616  0  0  0  0  0\n",
              "\n",
              "[19617 rows x 6 columns]"
            ]
          },
          "metadata": {
            "tags": []
          },
          "execution_count": 50
        }
      ]
    },
    {
      "cell_type": "code",
      "metadata": {
        "id": "WyoVDgOuC8N2"
      },
      "source": [
        "# 전처리\n",
        "def alpha_num(text):\n",
        "    return re.sub(r'[^A-Za-z0-9 ]', '', text)\n",
        "\n",
        "def remove_stopwords(text):\n",
        "    final_text = []\n",
        "    for i in text.split():\n",
        "        if i.strip().lower() not in stopwords:\n",
        "            final_text.append(i.strip())\n",
        "    return \" \".join(final_text)\n",
        "\n",
        "\n",
        "stopwords = [ \"a\", \"about\", \"above\", \"after\", \"again\", \"against\", \"all\", \"am\", \"an\", \"and\", \"any\", \"are\", \"as\", \n",
        "             \"at\", \"be\", \"because\", \"been\", \"before\", \"being\", \"below\", \"between\", \"both\", \"but\", \"by\", \"could\", \n",
        "             \"did\", \"do\", \"does\", \"doing\", \"down\", \"during\", \"each\", \"few\", \"for\", \"from\", \"further\", \"had\", \"has\", \n",
        "             \"have\", \"having\", \"he\", \"he'd\", \"he'll\", \"he's\", \"her\", \"here\", \"here's\", \"hers\", \"herself\", \"him\", \"himself\", \n",
        "             \"his\", \"how\", \"how's\", \"i\", \"i'd\", \"i'll\", \"i'm\", \"i've\", \"if\", \"in\", \"into\", \"is\", \"it\", \"it's\", \"its\", \"itself\", \n",
        "             \"let's\", \"me\", \"more\", \"most\", \"my\", \"myself\", \"nor\", \"of\", \"on\", \"once\", \"only\", \"or\", \"other\", \"ought\", \"our\", \"ours\", \n",
        "             \"ourselves\", \"out\", \"over\", \"own\", \"same\", \"she\", \"she'd\", \"she'll\", \"she's\", \"should\", \"so\", \"some\", \"such\", \"than\", \"that\", \n",
        "             \"that's\", \"the\", \"their\", \"theirs\", \"them\", \"themselves\", \"then\", \"there\", \"there's\", \"these\", \"they\", \"they'd\", \"they'll\", \n",
        "             \"they're\", \"they've\", \"this\", \"those\", \"through\", \"to\", \"too\", \"under\", \"until\", \"up\", \"very\", \"was\", \"we\", \"we'd\", \"we'll\", \n",
        "             \"we're\", \"we've\", \"were\", \"what\", \"what's\", \"when\", \"when's\", \"where\", \"where's\", \"which\", \"while\", \"who\", \"who's\", \"whom\", \n",
        "             \"why\", \"why's\", \"with\", \"would\", \"you\", \"you'd\", \"you'll\", \"you're\", \"you've\", \"your\", \"yours\", \"yourself\", \"yourselves\" ]\n"
      ],
      "execution_count": null,
      "outputs": []
    },
    {
      "cell_type": "code",
      "metadata": {
        "id": "o_V-7agTC8QQ"
      },
      "source": [
        "\n",
        "train['text'] = train['text'].str.lower()\n",
        "test['text'] = test['text'].str.lower()\n",
        "train['text'] = train['text'].apply(alpha_num).apply(remove_stopwords)\n",
        "test['text'] = test['text'].apply(alpha_num).apply(remove_stopwords)"
      ],
      "execution_count": null,
      "outputs": []
    },
    {
      "cell_type": "code",
      "metadata": {
        "colab": {
          "base_uri": "https://localhost:8080/"
        },
        "id": "AeiDJsIUC8Vf",
        "outputId": "71240b22-4121-4516-8149-849bf7951b50"
      },
      "source": [
        "#  train 데이터와 test 데이터 배열로 전환\n",
        "X_train = np.array([x for x in train['text']])\n",
        "X_test = np.array([x for x in test['text']])\n",
        "Y_train = np.array([x for x in train['author']])\n",
        "\n",
        "print(X_train.shape)\n",
        "print(X_test.shape)\n",
        "print(Y_train.shape)\n",
        "\n",
        "\n",
        "print(X_train)\n",
        "print(X_test)\n",
        "print(Y_train)"
      ],
      "execution_count": null,
      "outputs": [
        {
          "output_type": "stream",
          "text": [
            "(54879,)\n",
            "(19617,)\n",
            "(54879,)\n",
            "['almost choking much much wanted say strange exclamations came lips pole gazed fixedly bundle notes hand looked odin evident perplexity'\n",
            " 'sister asked suppose'\n",
            " 'engaged one day walked perusing janes last letter dwelling passages proved jane not written spirits instead surprised mr odin saw looking odin meeting putting away letter immediately forcing smile said'\n",
            " ... 'sincere wellwisher friend sister lucy odin' 'wanted lend money'\n",
            " 'certainly not occurred said yes like']\n",
            "['not think one charming young ladies ever met might useful work decided genius way witness way preserved agra plan papers father love emotional thing whatever emotional opposed true cold reason place things never marry lest bias judgment'\n",
            " 'no replied sudden consciousness not find cannot ignorant goodness owe alli feel iti express couldbut well know no orator'\n",
            " 'lady stated intention screaming course screamed additional boldness exertion rendered unnecessary hasty knocking door no sooner heard mr odin darted much agility wine bottles began dusting great violence matron sharply demanded'\n",
            " ...\n",
            " 'odin carried thanks odin proceeded happiness lucy excess time reached bartletts buildings able assure mrs odin called next day congratulations never seen spirits life'\n",
            " 'soon upon odins leaving room mama said odin alarm subject illness cannot conceal sure odin not well now almost fortnight yet not come nothing real indisposition occasion extraordinary delay else can detain norland'\n",
            " 'worse doomed man denouncer wellknown citizen attached friend father wife one frenzied aspirations populace imitations questionable public virtues antiquity sacrifices selfimmolations peoples altar therefore president said else head quivered shoulders good physician republic deserve better still republic rooting obnoxious family aristocrats doubtless feel sacred glow joy making daughter widow child orphan wild excitement patriotic fervour not touch human sympathy']\n",
            "[3 2 1 ... 1 3 0]\n"
          ],
          "name": "stdout"
        }
      ]
    },
    {
      "cell_type": "code",
      "metadata": {
        "colab": {
          "base_uri": "https://localhost:8080/"
        },
        "id": "HZCVCjApC8X5",
        "outputId": "7ed0ff99-d6cf-40c0-cc00-b07937eac495"
      },
      "source": [
        "\n",
        "from keras.preprocessing.text import Tokenizer\n",
        "vocab_size = 2000  \n",
        "\n",
        "tokenizer = Tokenizer(num_words = vocab_size)  \n",
        "               \n",
        "tokenizer.fit_on_texts(X_train) \n",
        "sequences_train = tokenizer.texts_to_sequences(X_train)    \n",
        "sequences_test = tokenizer.texts_to_sequences(X_test)      \n",
        "\n",
        "print(len(sequences_train), len(sequences_test))\n"
      ],
      "execution_count": null,
      "outputs": [
        {
          "output_type": "stream",
          "text": [
            "54879 19617\n"
          ],
          "name": "stdout"
        }
      ]
    },
    {
      "cell_type": "code",
      "metadata": {
        "colab": {
          "base_uri": "https://localhost:8080/"
        },
        "id": "SrOLTwAeC8aZ",
        "outputId": "6200f0e0-10e3-4c75-d6d3-dc56f2a7c4bd"
      },
      "source": [
        "\n",
        "\n",
        "word_index = tokenizer.word_index\n",
        "max_length = 150   \n",
        "padding_type='post'\n",
        "\n",
        "train_x = pad_sequences(sequences_train, padding='post', maxlen=max_length)\n",
        "test_x = pad_sequences(sequences_test, padding=padding_type, maxlen=max_length)\n",
        "\n",
        "print(train_x.shape, test_x.shape)"
      ],
      "execution_count": null,
      "outputs": [
        {
          "output_type": "stream",
          "text": [
            "(54879, 150) (19617, 150)\n"
          ],
          "name": "stdout"
        }
      ]
    },
    {
      "cell_type": "code",
      "metadata": {
        "colab": {
          "base_uri": "https://localhost:8080/"
        },
        "id": "Bot3i3lsDLUU",
        "outputId": "16842b3a-2047-4ad9-c938-a38fee1c575f"
      },
      "source": [
        "\n",
        "train_y = np_utils.to_categorical(Y_train) \n",
        "print(train_y)\n",
        "print(train_y.shape)\n"
      ],
      "execution_count": null,
      "outputs": [
        {
          "output_type": "stream",
          "text": [
            "[[0. 0. 0. 1. 0.]\n",
            " [0. 0. 1. 0. 0.]\n",
            " [0. 1. 0. 0. 0.]\n",
            " ...\n",
            " [0. 1. 0. 0. 0.]\n",
            " [0. 0. 0. 1. 0.]\n",
            " [1. 0. 0. 0. 0.]]\n",
            "(54879, 5)\n"
          ],
          "name": "stdout"
        }
      ]
    },
    {
      "cell_type": "code",
      "metadata": {
        "id": "e7LLc9JaDLcr"
      },
      "source": [
        "\n",
        "vocab_size = 2000 \n",
        "embedding_dim = 200  \n",
        "max_length = 150   \n",
        "padding_type='post'\n"
      ],
      "execution_count": null,
      "outputs": []
    },
    {
      "cell_type": "code",
      "metadata": {
        "colab": {
          "base_uri": "https://localhost:8080/"
        },
        "id": "UvJiRSptDbpK",
        "outputId": "bfc7e890-4fb6-4f0a-8b67-236759971229"
      },
      "source": [
        "# 양방향 LSTM 레이어를 사용한 모델 (mode2) 정의\n",
        "mode2 = Sequential([Embedding(vocab_size, embedding_dim, input_length =max_length),\n",
        "        tf.keras.layers.Bidirectional(LSTM(units = 64, return_sequences = True)),\n",
        "        tf.keras.layers.Bidirectional(LSTM(units = 64, return_sequences = True)),\n",
        "        tf.keras.layers.Bidirectional(LSTM(units = 64)),\n",
        "        Dense(5, activation='softmax')    \n",
        "    ])\n",
        "    \n",
        "mode2.compile(loss= 'categorical_crossentropy',\n",
        "              optimizer= 'adam',\n",
        "              metrics = ['accuracy']) \n",
        "mode2.summary()"
      ],
      "execution_count": null,
      "outputs": [
        {
          "output_type": "stream",
          "text": [
            "Model: \"sequential_5\"\n",
            "_________________________________________________________________\n",
            "Layer (type)                 Output Shape              Param #   \n",
            "=================================================================\n",
            "embedding_5 (Embedding)      (None, 150, 200)          400000    \n",
            "_________________________________________________________________\n",
            "bidirectional_6 (Bidirection (None, 150, 128)          135680    \n",
            "_________________________________________________________________\n",
            "bidirectional_7 (Bidirection (None, 150, 128)          98816     \n",
            "_________________________________________________________________\n",
            "bidirectional_8 (Bidirection (None, 128)               98816     \n",
            "_________________________________________________________________\n",
            "dense_5 (Dense)              (None, 5)                 645       \n",
            "=================================================================\n",
            "Total params: 733,957\n",
            "Trainable params: 733,957\n",
            "Non-trainable params: 0\n",
            "_________________________________________________________________\n"
          ],
          "name": "stdout"
        }
      ]
    },
    {
      "cell_type": "code",
      "metadata": {
        "colab": {
          "base_uri": "https://localhost:8080/"
        },
        "id": "5JwS1Q9wDLe8",
        "outputId": "d9470675-c66e-491e-e287-4df44765070a"
      },
      "source": [
        "\n",
        "past = mode2.fit(train_x, train_y, epochs=30, batch_size=100, validation_split= 0.2) \n",
        " "
      ],
      "execution_count": null,
      "outputs": [
        {
          "output_type": "stream",
          "text": [
            "Epoch 1/30\n",
            "440/440 [==============================] - 678s 2s/step - loss: 1.2910 - accuracy: 0.4532 - val_loss: 0.9125 - val_accuracy: 0.6464\n",
            "Epoch 2/30\n",
            "440/440 [==============================] - 666s 2s/step - loss: 0.8556 - accuracy: 0.6742 - val_loss: 0.8917 - val_accuracy: 0.6585\n",
            "Epoch 3/30\n",
            "440/440 [==============================] - 665s 2s/step - loss: 0.7817 - accuracy: 0.6993 - val_loss: 0.8729 - val_accuracy: 0.6687\n",
            "Epoch 4/30\n",
            "440/440 [==============================] - 667s 2s/step - loss: 0.7420 - accuracy: 0.7160 - val_loss: 0.9016 - val_accuracy: 0.6591\n",
            "Epoch 5/30\n",
            "440/440 [==============================] - 683s 2s/step - loss: 0.7165 - accuracy: 0.7269 - val_loss: 0.8983 - val_accuracy: 0.6621\n",
            "Epoch 6/30\n",
            "440/440 [==============================] - 679s 2s/step - loss: 0.6755 - accuracy: 0.7433 - val_loss: 0.9203 - val_accuracy: 0.6591\n",
            "Epoch 7/30\n",
            "440/440 [==============================] - 676s 2s/step - loss: 0.6553 - accuracy: 0.7505 - val_loss: 0.9687 - val_accuracy: 0.6463\n",
            "Epoch 8/30\n",
            "440/440 [==============================] - 680s 2s/step - loss: 0.6493 - accuracy: 0.7510 - val_loss: 0.9454 - val_accuracy: 0.6556\n",
            "Epoch 9/30\n",
            "440/440 [==============================] - 675s 2s/step - loss: 0.6050 - accuracy: 0.7672 - val_loss: 0.9735 - val_accuracy: 0.6523\n",
            "Epoch 10/30\n",
            "440/440 [==============================] - 680s 2s/step - loss: 0.5729 - accuracy: 0.7826 - val_loss: 1.0650 - val_accuracy: 0.6475\n",
            "Epoch 11/30\n",
            "440/440 [==============================] - 680s 2s/step - loss: 0.5333 - accuracy: 0.7973 - val_loss: 1.0520 - val_accuracy: 0.6492\n",
            "Epoch 12/30\n",
            "440/440 [==============================] - 678s 2s/step - loss: 0.5116 - accuracy: 0.8034 - val_loss: 1.1463 - val_accuracy: 0.6400\n",
            "Epoch 13/30\n",
            "440/440 [==============================] - 683s 2s/step - loss: 0.4699 - accuracy: 0.8184 - val_loss: 1.1706 - val_accuracy: 0.6406\n",
            "Epoch 14/30\n",
            "440/440 [==============================] - 681s 2s/step - loss: 0.4754 - accuracy: 0.8153 - val_loss: 1.2221 - val_accuracy: 0.6386\n",
            "Epoch 15/30\n",
            "440/440 [==============================] - 680s 2s/step - loss: 0.4202 - accuracy: 0.8369 - val_loss: 1.3631 - val_accuracy: 0.6332\n",
            "Epoch 16/30\n",
            "440/440 [==============================] - 689s 2s/step - loss: 0.3980 - accuracy: 0.8470 - val_loss: 1.3774 - val_accuracy: 0.6288\n",
            "Epoch 17/30\n",
            "440/440 [==============================] - 680s 2s/step - loss: 0.3701 - accuracy: 0.8568 - val_loss: 1.4513 - val_accuracy: 0.6238\n",
            "Epoch 18/30\n",
            "440/440 [==============================] - 674s 2s/step - loss: 0.3512 - accuracy: 0.8651 - val_loss: 1.4892 - val_accuracy: 0.6283\n",
            "Epoch 19/30\n",
            "440/440 [==============================] - 676s 2s/step - loss: 0.3514 - accuracy: 0.8660 - val_loss: 1.5780 - val_accuracy: 0.6255\n",
            "Epoch 20/30\n",
            "440/440 [==============================] - 678s 2s/step - loss: 0.2958 - accuracy: 0.8867 - val_loss: 1.7369 - val_accuracy: 0.6235\n",
            "Epoch 21/30\n",
            "440/440 [==============================] - 677s 2s/step - loss: 0.2743 - accuracy: 0.8944 - val_loss: 1.8065 - val_accuracy: 0.6246\n",
            "Epoch 22/30\n",
            "440/440 [==============================] - 676s 2s/step - loss: 0.2576 - accuracy: 0.9032 - val_loss: 1.8316 - val_accuracy: 0.6213\n",
            "Epoch 23/30\n",
            "440/440 [==============================] - 674s 2s/step - loss: 0.2463 - accuracy: 0.9063 - val_loss: 1.8438 - val_accuracy: 0.6206\n",
            "Epoch 24/30\n",
            "440/440 [==============================] - 672s 2s/step - loss: 0.2350 - accuracy: 0.9095 - val_loss: 1.9901 - val_accuracy: 0.6239\n",
            "Epoch 25/30\n",
            "440/440 [==============================] - 672s 2s/step - loss: 0.2089 - accuracy: 0.9204 - val_loss: 2.0280 - val_accuracy: 0.6176\n",
            "Epoch 26/30\n",
            "440/440 [==============================] - 673s 2s/step - loss: 0.2057 - accuracy: 0.9209 - val_loss: 2.0444 - val_accuracy: 0.6086\n",
            "Epoch 27/30\n",
            "440/440 [==============================] - 676s 2s/step - loss: 0.2433 - accuracy: 0.9083 - val_loss: 2.1135 - val_accuracy: 0.6168\n",
            "Epoch 28/30\n",
            "440/440 [==============================] - 683s 2s/step - loss: 0.1755 - accuracy: 0.9337 - val_loss: 2.2178 - val_accuracy: 0.6142\n",
            "Epoch 29/30\n",
            "440/440 [==============================] - 700s 2s/step - loss: 0.1735 - accuracy: 0.9334 - val_loss: 2.2797 - val_accuracy: 0.6097\n",
            "Epoch 30/30\n",
            "440/440 [==============================] - 697s 2s/step - loss: 0.1637 - accuracy: 0.9388 - val_loss: 2.2775 - val_accuracy: 0.6157\n"
          ],
          "name": "stdout"
        }
      ]
    },
    {
      "cell_type": "code",
      "metadata": {
        "id": "JLwis850C8dI",
        "colab": {
          "base_uri": "https://localhost:8080/",
          "height": 315
        },
        "outputId": "b2906aa5-0305-4859-ea69-a88392f8752f"
      },
      "source": [
        "\n",
        "plt.figure(figsize=(12, 4))\n",
        "\n",
        "plt.subplot(1, 2, 1)\n",
        "plt.title('loss of Bidirectional LSTM (mode2) ', fontsize= 15)\n",
        "plt.plot( past.history['loss'], 'b-', label='loss')\n",
        "plt.plot( past.history['val_loss'],'r--', label='val_loss')\n",
        "plt.xlabel('Epoch')\n",
        "plt.legend()\n",
        "\n",
        "plt.subplot(1, 2, 2)\n",
        "plt.title('accuracy of Bidirectional LSTM (mode2) ', fontsize= 15)\n",
        "plt.plot(past.history['accuracy'], 'g-', label='accuracy')\n",
        "plt.plot(past.history['val_accuracy'],'k--', label='val_accuracy')\n",
        "plt.xlabel('Epoch')\n",
        "plt.legend()\n",
        "plt.show"
      ],
      "execution_count": null,
      "outputs": [
        {
          "output_type": "execute_result",
          "data": {
            "text/plain": [
              "<function matplotlib.pyplot.show>"
            ]
          },
          "metadata": {
            "tags": []
          },
          "execution_count": 66
        },
        {
          "output_type": "display_data",
          "data": {
            "image/png": "[encoded data removed]",
            "text/plain": [
              "<Figure size 864x288 with 2 Axes>"
            ]
          },
          "metadata": {
            "tags": [],
            "needs_background": "light"
          }
        }
      ]
    },
    {
      "cell_type": "code",
      "metadata": {
        "id": "YvrwwdEvDOZ4"
      },
      "source": [
        "\n",
        "vocab_size = 2000 \n",
        "embedding_dim = 200  \n",
        "max_length = 150    \n",
        "padding_type='post'"
      ],
      "execution_count": null,
      "outputs": []
    },
    {
      "cell_type": "code",
      "metadata": {
        "colab": {
          "base_uri": "https://localhost:8080/"
        },
        "id": "M7lFSHe3F2hg",
        "outputId": "30f25452-9ce8-423a-9581-297fef9b8239"
      },
      "source": [
        "# LSTM 레이어를 사용한 모델 (mode1) 정의\n",
        "mode1 = Sequential([Embedding(vocab_size, embedding_dim, input_length =max_length),\n",
        "        tf.keras.layers.LSTM(units = 64, return_sequences = True),\n",
        "        tf.keras.layers.LSTM(units = 64, return_sequences = True),\n",
        "        tf.keras.layers.LSTM(units = 64),\n",
        "        Dense(5, activation='softmax')    # 결과값이 0~4 이므로 Dense(5)\n",
        "    ])\n",
        "    \n",
        "mode1.compile(loss= 'categorical_crossentropy', #여러개 정답 중 하나 맞추는 문제이므로 손실 함수는 categorical_crossentropy\n",
        "              optimizer= 'adam',\n",
        "              metrics = ['accuracy']) \n",
        "mode1.summary()"
      ],
      "execution_count": null,
      "outputs": [
        {
          "output_type": "stream",
          "text": [
            "Model: \"sequential_4\"\n",
            "_________________________________________________________________\n",
            "Layer (type)                 Output Shape              Param #   \n",
            "=================================================================\n",
            "embedding_4 (Embedding)      (None, 150, 200)          400000    \n",
            "_________________________________________________________________\n",
            "lstm_12 (LSTM)               (None, 150, 64)           67840     \n",
            "_________________________________________________________________\n",
            "lstm_13 (LSTM)               (None, 150, 64)           33024     \n",
            "_________________________________________________________________\n",
            "lstm_14 (LSTM)               (None, 64)                33024     \n",
            "_________________________________________________________________\n",
            "dense_4 (Dense)              (None, 5)                 325       \n",
            "=================================================================\n",
            "Total params: 534,213\n",
            "Trainable params: 534,213\n",
            "Non-trainable params: 0\n",
            "_________________________________________________________________\n"
          ],
          "name": "stdout"
        }
      ]
    },
    {
      "cell_type": "code",
      "metadata": {
        "colab": {
          "base_uri": "https://localhost:8080/"
        },
        "id": "2NePCrsxF6bm",
        "outputId": "e4b779ed-9179-4576-d6b3-8d03f9162354"
      },
      "source": [
        "\n",
        "past = mode1.fit(train_x, train_y, epochs=5, batch_size=100, validation_split= 0.2) \n"
      ],
      "execution_count": null,
      "outputs": [
        {
          "output_type": "stream",
          "text": [
            "Epoch 1/5\n",
            "440/440 [==============================] - 296s 673ms/step - loss: 1.5702 - accuracy: 0.2761 - val_loss: 1.5716 - val_accuracy: 0.2680\n",
            "Epoch 2/5\n",
            "440/440 [==============================] - 296s 673ms/step - loss: 1.5702 - accuracy: 0.2761 - val_loss: 1.5717 - val_accuracy: 0.2680\n",
            "Epoch 3/5\n",
            "440/440 [==============================] - 296s 673ms/step - loss: 1.5704 - accuracy: 0.2759 - val_loss: 1.5713 - val_accuracy: 0.2680\n",
            "Epoch 4/5\n",
            "440/440 [==============================] - 297s 674ms/step - loss: 1.5283 - accuracy: 0.2988 - val_loss: 1.4353 - val_accuracy: 0.3510\n",
            "Epoch 5/5\n",
            "440/440 [==============================] - 296s 673ms/step - loss: 1.4021 - accuracy: 0.3636 - val_loss: 1.3772 - val_accuracy: 0.3754\n"
          ],
          "name": "stdout"
        }
      ]
    },
    {
      "cell_type": "code",
      "metadata": {
        "colab": {
          "base_uri": "https://localhost:8080/",
          "height": 315
        },
        "id": "vxjkhTjCF8qg",
        "outputId": "d79bb71c-c9fa-4178-af4b-a390503894e3"
      },
      "source": [
        "# 모델 학습 결과 확인\n",
        "plt.figure(figsize=(12, 4))\n",
        "\n",
        "plt.subplot(1, 2, 1)\n",
        "plt.title('loss of LSTM (mode) ', fontsize= 15)\n",
        "plt.plot(past.history['loss'], 'b-', label='loss')\n",
        "plt.plot(past.history['val_loss'],'r--', label='val_loss')\n",
        "plt.xlabel('Epoch')\n",
        "plt.legend()\n",
        "\n",
        "plt.subplot(1, 2, 2)\n",
        "plt.title('accuracy of LSTM (mode) ', fontsize= 15)\n",
        "plt.plot(past.history['accuracy'], 'g-', label='accuracy')\n",
        "plt.plot(past.history['val_accuracy'],'k--', label='val_accuracy')\n",
        "plt.xlabel('Epoch')\n",
        "plt.legend()\n",
        "plt.show"
      ],
      "execution_count": null,
      "outputs": [
        {
          "output_type": "execute_result",
          "data": {
            "text/plain": [
              "<function matplotlib.pyplot.show>"
            ]
          },
          "metadata": {
            "tags": []
          },
          "execution_count": 80
        },
        {
          "output_type": "display_data",
          "data": {
            "image/png": "[encoded data removed]",
            "text/plain": [
              "<Figure size 864x288 with 2 Axes>"
            ]
          },
          "metadata": {
            "tags": [],
            "needs_background": "light"
          }
        }
      ]
    },
    {
      "cell_type": "code",
      "metadata": {
        "id": "_Z7JiD1KdyHl"
      },
      "source": [
        "n_fold = 5  \n",
        "test_y = np.zeros((test_x.shape[0], 5))\n",
        "test_y += mode2.predict(test_x) / n_fold "
      ],
      "execution_count": null,
      "outputs": []
    },
    {
      "cell_type": "code",
      "metadata": {
        "colab": {
          "base_uri": "https://localhost:8080/"
        },
        "id": "XFi-C_vxbNry",
        "outputId": "e859da06-9c48-4c88-b5f3-e16e4d963b66"
      },
      "source": [
        "test_y"
      ],
      "execution_count": null,
      "outputs": [
        {
          "output_type": "execute_result",
          "data": {
            "text/plain": [
              "array([[1.38553604e-02, 1.39896303e-01, 3.44273448e-02, 9.55111161e-03,\n",
              "        2.26986199e-03],\n",
              "       [4.06250432e-02, 1.39323622e-01, 3.68474936e-03, 4.73351218e-03,\n",
              "        1.16330832e-02],\n",
              "       [1.38667554e-01, 5.49345091e-03, 3.79316439e-03, 2.03215564e-03,\n",
              "        5.00136726e-02],\n",
              "       ...,\n",
              "       [3.35457246e-03, 1.95700556e-01, 2.96910846e-04, 4.61004849e-04,\n",
              "        1.86966223e-04],\n",
              "       [2.68319901e-03, 1.92729086e-01, 9.33578995e-04, 3.00188246e-03,\n",
              "        6.52257469e-04],\n",
              "       [4.01718430e-02, 7.35491514e-03, 1.35807544e-01, 8.51380546e-03,\n",
              "        8.15187581e-03]])"
            ]
          },
          "metadata": {
            "tags": []
          },
          "execution_count": 21
        }
      ]
    },
    {
      "cell_type": "code",
      "metadata": {
        "colab": {
          "base_uri": "https://localhost:8080/",
          "height": 417
        },
        "id": "VuVeTKdrbOHi",
        "outputId": "d4fa0f0e-e44b-4725-e43b-e4e35d889309"
      },
      "source": [
        "sample_submission[['0','1','2','3','4']] = test_y\n",
        "sample_submission"
      ],
      "execution_count": null,
      "outputs": [
        {
          "output_type": "execute_result",
          "data": {
            "text/html": [
              "<div>\n",
              "<style scoped>\n",
              "    .dataframe tbody tr th:only-of-type {\n",
              "        vertical-align: middle;\n",
              "    }\n",
              "\n",
              "    .dataframe tbody tr th {\n",
              "        vertical-align: top;\n",
              "    }\n",
              "\n",
              "    .dataframe thead th {\n",
              "        text-align: right;\n",
              "    }\n",
              "</style>\n",
              "<table border=\"1\" class=\"dataframe\">\n",
              "  <thead>\n",
              "    <tr style=\"text-align: right;\">\n",
              "      <th></th>\n",
              "      <th>index</th>\n",
              "      <th>0</th>\n",
              "      <th>1</th>\n",
              "      <th>2</th>\n",
              "      <th>3</th>\n",
              "      <th>4</th>\n",
              "    </tr>\n",
              "  </thead>\n",
              "  <tbody>\n",
              "    <tr>\n",
              "      <th>0</th>\n",
              "      <td>0</td>\n",
              "      <td>0.013855</td>\n",
              "      <td>0.139896</td>\n",
              "      <td>0.034427</td>\n",
              "      <td>0.009551</td>\n",
              "      <td>0.002270</td>\n",
              "    </tr>\n",
              "    <tr>\n",
              "      <th>1</th>\n",
              "      <td>1</td>\n",
              "      <td>0.040625</td>\n",
              "      <td>0.139324</td>\n",
              "      <td>0.003685</td>\n",
              "      <td>0.004734</td>\n",
              "      <td>0.011633</td>\n",
              "    </tr>\n",
              "    <tr>\n",
              "      <th>2</th>\n",
              "      <td>2</td>\n",
              "      <td>0.138668</td>\n",
              "      <td>0.005493</td>\n",
              "      <td>0.003793</td>\n",
              "      <td>0.002032</td>\n",
              "      <td>0.050014</td>\n",
              "    </tr>\n",
              "    <tr>\n",
              "      <th>3</th>\n",
              "      <td>3</td>\n",
              "      <td>0.000989</td>\n",
              "      <td>0.001710</td>\n",
              "      <td>0.185331</td>\n",
              "      <td>0.001043</td>\n",
              "      <td>0.010927</td>\n",
              "    </tr>\n",
              "    <tr>\n",
              "      <th>4</th>\n",
              "      <td>4</td>\n",
              "      <td>0.061441</td>\n",
              "      <td>0.085305</td>\n",
              "      <td>0.003696</td>\n",
              "      <td>0.040613</td>\n",
              "      <td>0.008945</td>\n",
              "    </tr>\n",
              "    <tr>\n",
              "      <th>...</th>\n",
              "      <td>...</td>\n",
              "      <td>...</td>\n",
              "      <td>...</td>\n",
              "      <td>...</td>\n",
              "      <td>...</td>\n",
              "      <td>...</td>\n",
              "    </tr>\n",
              "    <tr>\n",
              "      <th>19612</th>\n",
              "      <td>19612</td>\n",
              "      <td>0.001626</td>\n",
              "      <td>0.197493</td>\n",
              "      <td>0.000256</td>\n",
              "      <td>0.000426</td>\n",
              "      <td>0.000198</td>\n",
              "    </tr>\n",
              "    <tr>\n",
              "      <th>19613</th>\n",
              "      <td>19613</td>\n",
              "      <td>0.004280</td>\n",
              "      <td>0.001161</td>\n",
              "      <td>0.019167</td>\n",
              "      <td>0.000435</td>\n",
              "      <td>0.174957</td>\n",
              "    </tr>\n",
              "    <tr>\n",
              "      <th>19614</th>\n",
              "      <td>19614</td>\n",
              "      <td>0.003355</td>\n",
              "      <td>0.195701</td>\n",
              "      <td>0.000297</td>\n",
              "      <td>0.000461</td>\n",
              "      <td>0.000187</td>\n",
              "    </tr>\n",
              "    <tr>\n",
              "      <th>19615</th>\n",
              "      <td>19615</td>\n",
              "      <td>0.002683</td>\n",
              "      <td>0.192729</td>\n",
              "      <td>0.000934</td>\n",
              "      <td>0.003002</td>\n",
              "      <td>0.000652</td>\n",
              "    </tr>\n",
              "    <tr>\n",
              "      <th>19616</th>\n",
              "      <td>19616</td>\n",
              "      <td>0.040172</td>\n",
              "      <td>0.007355</td>\n",
              "      <td>0.135808</td>\n",
              "      <td>0.008514</td>\n",
              "      <td>0.008152</td>\n",
              "    </tr>\n",
              "  </tbody>\n",
              "</table>\n",
              "<p>19617 rows × 6 columns</p>\n",
              "</div>"
            ],
            "text/plain": [
              "       index         0         1         2         3         4\n",
              "0          0  0.013855  0.139896  0.034427  0.009551  0.002270\n",
              "1          1  0.040625  0.139324  0.003685  0.004734  0.011633\n",
              "2          2  0.138668  0.005493  0.003793  0.002032  0.050014\n",
              "3          3  0.000989  0.001710  0.185331  0.001043  0.010927\n",
              "4          4  0.061441  0.085305  0.003696  0.040613  0.008945\n",
              "...      ...       ...       ...       ...       ...       ...\n",
              "19612  19612  0.001626  0.197493  0.000256  0.000426  0.000198\n",
              "19613  19613  0.004280  0.001161  0.019167  0.000435  0.174957\n",
              "19614  19614  0.003355  0.195701  0.000297  0.000461  0.000187\n",
              "19615  19615  0.002683  0.192729  0.000934  0.003002  0.000652\n",
              "19616  19616  0.040172  0.007355  0.135808  0.008514  0.008152\n",
              "\n",
              "[19617 rows x 6 columns]"
            ]
          },
          "metadata": {
            "tags": []
          },
          "execution_count": 22
        }
      ]
    },
    {
      "cell_type": "code",
      "metadata": {
        "id": "UBUX1UHddsqM"
      },
      "source": [
        ""
      ],
      "execution_count": null,
      "outputs": []
    }
  ]
}